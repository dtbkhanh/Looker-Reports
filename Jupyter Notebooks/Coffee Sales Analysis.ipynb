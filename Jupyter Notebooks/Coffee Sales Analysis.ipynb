{
 "cells": [
  {
   "cell_type": "markdown",
   "id": "d4f694ab-5ac3-4ef2-b5c0-d7645daa751e",
   "metadata": {},
   "source": [
    "## Import Libraries"
   ]
  },
  {
   "cell_type": "code",
   "execution_count": 136,
   "id": "7178ee20-d4fb-48fa-86bd-270d4f9f5a0d",
   "metadata": {},
   "outputs": [],
   "source": [
    "import pandas as pd\n",
    "import plotly.graph_objects as go\n",
    "from datetime import date\n",
    "from dash import Dash, dcc, html, Input, Output"
   ]
  },
  {
   "cell_type": "markdown",
   "id": "7708cf1e-d4cd-483e-8dc6-07124dfb2f28",
   "metadata": {},
   "source": [
    "## Load Dataset"
   ]
  },
  {
   "cell_type": "code",
   "execution_count": 113,
   "id": "92130b92-920e-4521-8a24-d3934ef5c561",
   "metadata": {},
   "outputs": [
    {
     "data": {
      "text/html": [
       "<div>\n",
       "<style scoped>\n",
       "    .dataframe tbody tr th:only-of-type {\n",
       "        vertical-align: middle;\n",
       "    }\n",
       "\n",
       "    .dataframe tbody tr th {\n",
       "        vertical-align: top;\n",
       "    }\n",
       "\n",
       "    .dataframe thead th {\n",
       "        text-align: right;\n",
       "    }\n",
       "</style>\n",
       "<table border=\"1\" class=\"dataframe\">\n",
       "  <thead>\n",
       "    <tr style=\"text-align: right;\">\n",
       "      <th></th>\n",
       "      <th>date</th>\n",
       "      <th>datetime</th>\n",
       "      <th>cash_type</th>\n",
       "      <th>card</th>\n",
       "      <th>money</th>\n",
       "      <th>coffee_name</th>\n",
       "    </tr>\n",
       "  </thead>\n",
       "  <tbody>\n",
       "    <tr>\n",
       "      <th>0</th>\n",
       "      <td>2024-03-01</td>\n",
       "      <td>2024-03-01 10:15:50.520</td>\n",
       "      <td>card</td>\n",
       "      <td>ANON-0000-0000-0001</td>\n",
       "      <td>38.7</td>\n",
       "      <td>Latte</td>\n",
       "    </tr>\n",
       "    <tr>\n",
       "      <th>1</th>\n",
       "      <td>2024-03-01</td>\n",
       "      <td>2024-03-01 12:19:22.539</td>\n",
       "      <td>card</td>\n",
       "      <td>ANON-0000-0000-0002</td>\n",
       "      <td>38.7</td>\n",
       "      <td>Hot Chocolate</td>\n",
       "    </tr>\n",
       "    <tr>\n",
       "      <th>2</th>\n",
       "      <td>2024-03-01</td>\n",
       "      <td>2024-03-01 12:20:18.089</td>\n",
       "      <td>card</td>\n",
       "      <td>ANON-0000-0000-0002</td>\n",
       "      <td>38.7</td>\n",
       "      <td>Hot Chocolate</td>\n",
       "    </tr>\n",
       "    <tr>\n",
       "      <th>3</th>\n",
       "      <td>2024-03-01</td>\n",
       "      <td>2024-03-01 13:46:33.006</td>\n",
       "      <td>card</td>\n",
       "      <td>ANON-0000-0000-0003</td>\n",
       "      <td>28.9</td>\n",
       "      <td>Americano</td>\n",
       "    </tr>\n",
       "    <tr>\n",
       "      <th>4</th>\n",
       "      <td>2024-03-01</td>\n",
       "      <td>2024-03-01 13:48:14.626</td>\n",
       "      <td>card</td>\n",
       "      <td>ANON-0000-0000-0004</td>\n",
       "      <td>38.7</td>\n",
       "      <td>Latte</td>\n",
       "    </tr>\n",
       "  </tbody>\n",
       "</table>\n",
       "</div>"
      ],
      "text/plain": [
       "         date                 datetime cash_type                 card  money  \\\n",
       "0  2024-03-01  2024-03-01 10:15:50.520      card  ANON-0000-0000-0001   38.7   \n",
       "1  2024-03-01  2024-03-01 12:19:22.539      card  ANON-0000-0000-0002   38.7   \n",
       "2  2024-03-01  2024-03-01 12:20:18.089      card  ANON-0000-0000-0002   38.7   \n",
       "3  2024-03-01  2024-03-01 13:46:33.006      card  ANON-0000-0000-0003   28.9   \n",
       "4  2024-03-01  2024-03-01 13:48:14.626      card  ANON-0000-0000-0004   38.7   \n",
       "\n",
       "     coffee_name  \n",
       "0          Latte  \n",
       "1  Hot Chocolate  \n",
       "2  Hot Chocolate  \n",
       "3      Americano  \n",
       "4          Latte  "
      ]
     },
     "execution_count": 113,
     "metadata": {},
     "output_type": "execute_result"
    }
   ],
   "source": [
    "df1 = pd.read_csv('Coffee Sales_1.csv')\n",
    "df2 = pd.read_csv('Coffee Sales_2.csv')\n",
    "\n",
    "df = pd.concat([df1, df2], ignore_index=True)\n",
    "df.head()"
   ]
  },
  {
   "cell_type": "markdown",
   "id": "c7f6489d-4412-400c-8a20-e39fbc7add6d",
   "metadata": {},
   "source": [
    "## Inspect the Dataset"
   ]
  },
  {
   "cell_type": "code",
   "execution_count": 114,
   "id": "a5710c5a-c959-4615-8ab2-2bb93edcc636",
   "metadata": {},
   "outputs": [
    {
     "name": "stdout",
     "output_type": "stream",
     "text": [
      "<class 'pandas.core.frame.DataFrame'>\n",
      "RangeIndex: 3373 entries, 0 to 3372\n",
      "Data columns (total 6 columns):\n",
      " #   Column       Non-Null Count  Dtype  \n",
      "---  ------       --------------  -----  \n",
      " 0   date         3373 non-null   object \n",
      " 1   datetime     3373 non-null   object \n",
      " 2   cash_type    3373 non-null   object \n",
      " 3   card         3174 non-null   object \n",
      " 4   money        3373 non-null   float64\n",
      " 5   coffee_name  3373 non-null   object \n",
      "dtypes: float64(1), object(5)\n",
      "memory usage: 158.2+ KB\n"
     ]
    }
   ],
   "source": [
    "df.info()"
   ]
  },
  {
   "cell_type": "code",
   "execution_count": 115,
   "id": "f429e5b1-e47d-4676-b958-ead0636718f1",
   "metadata": {},
   "outputs": [
    {
     "data": {
      "text/plain": [
       "date             0\n",
       "datetime         0\n",
       "cash_type        0\n",
       "card           199\n",
       "money            0\n",
       "coffee_name      0\n",
       "dtype: int64"
      ]
     },
     "execution_count": 115,
     "metadata": {},
     "output_type": "execute_result"
    }
   ],
   "source": [
    "# Check for missing values\n",
    "df.isnull().sum()"
   ]
  },
  {
   "cell_type": "code",
   "execution_count": 8,
   "id": "35b590cf-3b7c-49bf-b211-374bc71213bb",
   "metadata": {},
   "outputs": [
    {
     "data": {
      "text/html": [
       "<div>\n",
       "<style scoped>\n",
       "    .dataframe tbody tr th:only-of-type {\n",
       "        vertical-align: middle;\n",
       "    }\n",
       "\n",
       "    .dataframe tbody tr th {\n",
       "        vertical-align: top;\n",
       "    }\n",
       "\n",
       "    .dataframe thead th {\n",
       "        text-align: right;\n",
       "    }\n",
       "</style>\n",
       "<table border=\"1\" class=\"dataframe\">\n",
       "  <thead>\n",
       "    <tr style=\"text-align: right;\">\n",
       "      <th></th>\n",
       "      <th>date</th>\n",
       "      <th>datetime</th>\n",
       "      <th>cash_type</th>\n",
       "      <th>card</th>\n",
       "      <th>money</th>\n",
       "      <th>coffee_name</th>\n",
       "    </tr>\n",
       "  </thead>\n",
       "  <tbody>\n",
       "    <tr>\n",
       "      <th>12</th>\n",
       "      <td>2024-03-02</td>\n",
       "      <td>2024-03-02 10:30:35.668</td>\n",
       "      <td>cash</td>\n",
       "      <td>NaN</td>\n",
       "      <td>40.0</td>\n",
       "      <td>Latte</td>\n",
       "    </tr>\n",
       "    <tr>\n",
       "      <th>18</th>\n",
       "      <td>2024-03-03</td>\n",
       "      <td>2024-03-03 10:10:43.981</td>\n",
       "      <td>cash</td>\n",
       "      <td>NaN</td>\n",
       "      <td>40.0</td>\n",
       "      <td>Latte</td>\n",
       "    </tr>\n",
       "    <tr>\n",
       "      <th>41</th>\n",
       "      <td>2024-03-06</td>\n",
       "      <td>2024-03-06 12:30:27.089</td>\n",
       "      <td>cash</td>\n",
       "      <td>NaN</td>\n",
       "      <td>35.0</td>\n",
       "      <td>Americano with Milk</td>\n",
       "    </tr>\n",
       "    <tr>\n",
       "      <th>46</th>\n",
       "      <td>2024-03-07</td>\n",
       "      <td>2024-03-07 10:08:58.945</td>\n",
       "      <td>cash</td>\n",
       "      <td>NaN</td>\n",
       "      <td>40.0</td>\n",
       "      <td>Latte</td>\n",
       "    </tr>\n",
       "    <tr>\n",
       "      <th>49</th>\n",
       "      <td>2024-03-07</td>\n",
       "      <td>2024-03-07 11:25:43.977</td>\n",
       "      <td>cash</td>\n",
       "      <td>NaN</td>\n",
       "      <td>40.0</td>\n",
       "      <td>Latte</td>\n",
       "    </tr>\n",
       "    <tr>\n",
       "      <th>...</th>\n",
       "      <td>...</td>\n",
       "      <td>...</td>\n",
       "      <td>...</td>\n",
       "      <td>...</td>\n",
       "      <td>...</td>\n",
       "      <td>...</td>\n",
       "    </tr>\n",
       "    <tr>\n",
       "      <th>3368</th>\n",
       "      <td>2025-02-24</td>\n",
       "      <td>2025-02-24 18:32:28</td>\n",
       "      <td>card</td>\n",
       "      <td>NaN</td>\n",
       "      <td>28.0</td>\n",
       "      <td>Caramel with Irish whiskey</td>\n",
       "    </tr>\n",
       "    <tr>\n",
       "      <th>3369</th>\n",
       "      <td>2025-02-24</td>\n",
       "      <td>2025-02-24 18:33:49</td>\n",
       "      <td>card</td>\n",
       "      <td>NaN</td>\n",
       "      <td>28.0</td>\n",
       "      <td>Caramel with Irish whiskey</td>\n",
       "    </tr>\n",
       "    <tr>\n",
       "      <th>3370</th>\n",
       "      <td>2025-02-24</td>\n",
       "      <td>2025-02-24 20:15:01</td>\n",
       "      <td>card</td>\n",
       "      <td>NaN</td>\n",
       "      <td>25.0</td>\n",
       "      <td>Caramel with milk</td>\n",
       "    </tr>\n",
       "    <tr>\n",
       "      <th>3371</th>\n",
       "      <td>2025-02-25</td>\n",
       "      <td>2025-02-25 21:41:58</td>\n",
       "      <td>card</td>\n",
       "      <td>NaN</td>\n",
       "      <td>29.0</td>\n",
       "      <td>Coffee with Irish whiskey</td>\n",
       "    </tr>\n",
       "    <tr>\n",
       "      <th>3372</th>\n",
       "      <td>2025-02-25</td>\n",
       "      <td>2025-02-25 21:43:45</td>\n",
       "      <td>card</td>\n",
       "      <td>NaN</td>\n",
       "      <td>33.0</td>\n",
       "      <td>Latte</td>\n",
       "    </tr>\n",
       "  </tbody>\n",
       "</table>\n",
       "<p>199 rows × 6 columns</p>\n",
       "</div>"
      ],
      "text/plain": [
       "            date                 datetime cash_type card  money  \\\n",
       "12    2024-03-02  2024-03-02 10:30:35.668      cash  NaN   40.0   \n",
       "18    2024-03-03  2024-03-03 10:10:43.981      cash  NaN   40.0   \n",
       "41    2024-03-06  2024-03-06 12:30:27.089      cash  NaN   35.0   \n",
       "46    2024-03-07  2024-03-07 10:08:58.945      cash  NaN   40.0   \n",
       "49    2024-03-07  2024-03-07 11:25:43.977      cash  NaN   40.0   \n",
       "...          ...                      ...       ...  ...    ...   \n",
       "3368  2025-02-24      2025-02-24 18:32:28      card  NaN   28.0   \n",
       "3369  2025-02-24      2025-02-24 18:33:49      card  NaN   28.0   \n",
       "3370  2025-02-24      2025-02-24 20:15:01      card  NaN   25.0   \n",
       "3371  2025-02-25      2025-02-25 21:41:58      card  NaN   29.0   \n",
       "3372  2025-02-25      2025-02-25 21:43:45      card  NaN   33.0   \n",
       "\n",
       "                     coffee_name  \n",
       "12                         Latte  \n",
       "18                         Latte  \n",
       "41           Americano with Milk  \n",
       "46                         Latte  \n",
       "49                         Latte  \n",
       "...                          ...  \n",
       "3368  Caramel with Irish whiskey  \n",
       "3369  Caramel with Irish whiskey  \n",
       "3370           Caramel with milk  \n",
       "3371   Coffee with Irish whiskey  \n",
       "3372                       Latte  \n",
       "\n",
       "[199 rows x 6 columns]"
      ]
     },
     "execution_count": 8,
     "metadata": {},
     "output_type": "execute_result"
    }
   ],
   "source": [
    "# Show rows with missing values\n",
    "df[df.isnull().any(axis=1)]"
   ]
  },
  {
   "cell_type": "code",
   "execution_count": 9,
   "id": "7b3f6707-0483-422a-9338-ab9ecd2a302d",
   "metadata": {},
   "outputs": [
    {
     "data": {
      "text/plain": [
       "np.int64(0)"
      ]
     },
     "execution_count": 9,
     "metadata": {},
     "output_type": "execute_result"
    }
   ],
   "source": [
    "# Check for duplicate rows\n",
    "df.duplicated().sum()"
   ]
  },
  {
   "cell_type": "markdown",
   "id": "5900960b-b80e-4c0e-836e-d63d82bce617",
   "metadata": {},
   "source": [
    "## Data Preprocessing"
   ]
  },
  {
   "cell_type": "code",
   "execution_count": 134,
   "id": "b8f634ba-5c37-4bab-a160-ab7c440f7e8a",
   "metadata": {},
   "outputs": [
    {
     "data": {
      "text/plain": [
       "0       2024-03\n",
       "1       2024-03\n",
       "2       2024-03\n",
       "3       2024-03\n",
       "4       2024-03\n",
       "         ...   \n",
       "3368    2025-02\n",
       "3369    2025-02\n",
       "3370    2025-02\n",
       "3371    2025-02\n",
       "3372    2025-02\n",
       "Name: datetime, Length: 3373, dtype: period[M]"
      ]
     },
     "execution_count": 134,
     "metadata": {},
     "output_type": "execute_result"
    }
   ],
   "source": [
    "# Convert the 'datetime' column to datetime type\n",
    "df['datetime'] = pd.to_datetime(df['datetime'], format='ISO8601', errors='coerce')\n",
    "\n",
    "# Extract the month from the 'datetime' column\n",
    "df['datetime'].dt.to_period('M')"
   ]
  },
  {
   "cell_type": "markdown",
   "id": "476662f4-91d3-4588-9fb7-e6deea3f5ef1",
   "metadata": {},
   "source": [
    "## Create Dash app"
   ]
  },
  {
   "cell_type": "code",
   "execution_count": 163,
   "id": "5392d98d-9220-40a4-a3b4-c7d2ee65ee3d",
   "metadata": {},
   "outputs": [],
   "source": [
    "# Create Dash app\n",
    "app = Dash(__name__)"
   ]
  },
  {
   "cell_type": "markdown",
   "id": "2f88b0c3-d2a2-45da-80e7-4efd29b2deb5",
   "metadata": {},
   "source": [
    "## 📊 Total Sales per Coffee Type"
   ]
  },
  {
   "cell_type": "code",
   "execution_count": 164,
   "id": "67f97105-c4a4-41b6-b4e9-2075e614eddb",
   "metadata": {},
   "outputs": [
    {
     "data": {
      "text/html": [
       "\n",
       "        <iframe\n",
       "            width=\"100%\"\n",
       "            height=\"650\"\n",
       "            src=\"http://127.0.0.1:8050/\"\n",
       "            frameborder=\"0\"\n",
       "            allowfullscreen\n",
       "            \n",
       "        ></iframe>\n",
       "        "
      ],
      "text/plain": [
       "<IPython.lib.display.IFrame at 0x2408b526740>"
      ]
     },
     "metadata": {},
     "output_type": "display_data"
    }
   ],
   "source": [
    "app.layout = html.Div(\n",
    "    children=[\n",
    "        # DatePickerRange component\n",
    "        dcc.DatePickerRange(\n",
    "            id='date-picker-range',\n",
    "            start_date='2024-01-01',\n",
    "            end_date=date.today().strftime('%Y-%m-%d'), \n",
    "            display_format='YYYY-MM-DD',\n",
    "            style={ 'height': '100px', 'width': '300px', 'font-size': '10px', 'margin-bottom': '0px'}\n",
    "        ),\n",
    "        \n",
    "        # Bar chart\n",
    "        dcc.Graph(id='sales-bar-chart')\n",
    "    ]\n",
    ")\n",
    "\n",
    "@app.callback(\n",
    "    Output('sales-bar-chart', 'figure'),\n",
    "    Input('date-picker-range', 'start_date'),\n",
    "    Input('date-picker-range', 'end_date')\n",
    ")\n",
    "def update_bar_chart(start_date, end_date):\n",
    "    # Filter the dataframe based on the selected date range\n",
    "    filtered_df = df[(df['datetime'] >= start_date) & (df['datetime'] <= end_date)]\n",
    "    \n",
    "    # Calculate Total Sales for each Coffee Type\n",
    "    aggregated_df = filtered_df.groupby('coffee_name', as_index=False)['money'].sum()\n",
    "    aggregated_df = aggregated_df.sort_values('money', ascending=True)\n",
    "\n",
    "    # Create the bar chart using go.Bar\n",
    "    bar_fig = go.Figure(go.Bar(\n",
    "        x=aggregated_df['money'], \n",
    "        y=aggregated_df['coffee_name'], \n",
    "        orientation='h', \n",
    "        marker=dict(color='rgba(0, 123, 255, 0.3)'),\n",
    "        hovertemplate='%{x:,.2f}<br>%{y}<extra></extra>'\n",
    "    ))\n",
    "\n",
    "    # Update layout with custom styling\n",
    "    bar_fig.update_layout(\n",
    "        title={\n",
    "            'text': 'Total Sales per Coffee Type',\n",
    "            'x': 0.5, 'xanchor': 'center',\n",
    "            'font': {'size': 18, 'weight': 'bold'}\n",
    "        },\n",
    "        plot_bgcolor='white',  \n",
    "        paper_bgcolor='white',\n",
    "        xaxis_title=\"Total Sales (₴)\", \n",
    "        xaxis_title_standoff=30,\n",
    "        yaxis_title=\"Coffee Type\", \n",
    "        yaxis_title_standoff=30, \n",
    "        height=500,\n",
    "        font=dict(family=\"Arial\", size=11),\n",
    "    )\n",
    "\n",
    "    return bar_fig\n",
    "\n",
    "# Run the Dash app\n",
    "app.run_server(mode=\"inline\")"
   ]
  },
  {
   "cell_type": "code",
   "execution_count": null,
   "id": "a22c4b5d-5824-44b3-be20-e727e1b655d3",
   "metadata": {},
   "outputs": [],
   "source": []
  }
 ],
 "metadata": {
  "kernelspec": {
   "display_name": "Python 3 (ipykernel)",
   "language": "python",
   "name": "python3"
  },
  "language_info": {
   "codemirror_mode": {
    "name": "ipython",
    "version": 3
   },
   "file_extension": ".py",
   "mimetype": "text/x-python",
   "name": "python",
   "nbconvert_exporter": "python",
   "pygments_lexer": "ipython3",
   "version": "3.13.2"
  }
 },
 "nbformat": 4,
 "nbformat_minor": 5
}
